{
 "cells": [
  {
   "cell_type": "markdown",
   "id": "a4968191",
   "metadata": {},
   "source": [
    "# Comments & Basic Data Types"
   ]
  },
  {
   "cell_type": "code",
   "execution_count": 4,
   "id": "7533e655",
   "metadata": {},
   "outputs": [
    {
     "name": "stdout",
     "output_type": "stream",
     "text": [
      "Hello\n"
     ]
    }
   ],
   "source": [
    "\"\"\"This\n",
    "is \n",
    "a multi-line\n",
    "comment\"\"\"\n",
    "print(\"Hello\") # this is a comment"
   ]
  },
  {
   "cell_type": "code",
   "execution_count": 14,
   "id": "6cd46e84",
   "metadata": {
    "scrolled": true
   },
   "outputs": [
    {
     "name": "stdout",
     "output_type": "stream",
     "text": [
      "2\n",
      "10\n",
      "10.953\n",
      "8.0\n",
      "True\n",
      "False\n",
      "\n",
      "There's a snake in my boot!\n",
      "True\n",
      "10\n",
      "My name is Mary\n"
     ]
    },
    {
     "data": {
      "text/plain": [
       "str"
      ]
     },
     "execution_count": 14,
     "metadata": {},
     "output_type": "execute_result"
    }
   ],
   "source": [
    "# the following are all integers\n",
    "print(2)\n",
    "print(10)\n",
    "# the following are all floats\n",
    "print(10.953)\n",
    "print(8.0) # even this  numbeer is a float\n",
    "# the following are booleans\n",
    "print(True)\n",
    "print(False)\n",
    "# the following are strings\n",
    "print(\"\")\n",
    "print(\"There's a snake in my boot!\")\n",
    "print(\"True\")\n",
    "print(\"10\")\n",
    "print(\"My name is Mary\")\n",
    "type(\"10\")\n",
    "\n",
    "\n",
    "\n"
   ]
  },
  {
   "cell_type": "markdown",
   "id": "b7bdf8fb",
   "metadata": {},
   "source": [
    "# Variables"
   ]
  },
  {
   "cell_type": "code",
   "execution_count": 1,
   "id": "ffcc7493",
   "metadata": {},
   "outputs": [
    {
     "data": {
      "text/plain": [
       "'Mary'"
      ]
     },
     "execution_count": 1,
     "metadata": {},
     "output_type": "execute_result"
    }
   ],
   "source": [
    "first_name = \"Mary\"\n",
    "first_name"
   ]
  },
  {
   "cell_type": "code",
   "execution_count": 2,
   "id": "ab492f1f",
   "metadata": {},
   "outputs": [
    {
     "name": "stdout",
     "output_type": "stream",
     "text": [
      "5 8.4\n"
     ]
    }
   ],
   "source": [
    "num1=5\n",
    "num2 = 8.4\n",
    "print(num1, num2)"
   ]
  },
  {
   "cell_type": "code",
   "execution_count": 3,
   "id": "9669972a",
   "metadata": {},
   "outputs": [
    {
     "name": "stdout",
     "output_type": "stream",
     "text": [
      "True\n"
     ]
    }
   ],
   "source": [
    "switch = True\n",
    "print(switch)"
   ]
  },
  {
   "cell_type": "code",
   "execution_count": 4,
   "id": "b4602efa",
   "metadata": {},
   "outputs": [
    {
     "name": "stdout",
     "output_type": "stream",
     "text": [
      "Mary 24\n"
     ]
    }
   ],
   "source": [
    "name = \"Mary\"\n",
    "fav_number = 24\n",
    "print(name, fav_number)"
   ]
  },
  {
   "cell_type": "code",
   "execution_count": 5,
   "id": "406a2ab3",
   "metadata": {},
   "outputs": [
    {
     "name": "stdout",
     "output_type": "stream",
     "text": [
      "13.4\n"
     ]
    }
   ],
   "source": [
    "result = num1 + num2\n",
    "print(result)"
   ]
  },
  {
   "cell_type": "code",
   "execution_count": 6,
   "id": "fda1f7ee",
   "metadata": {},
   "outputs": [
    {
     "name": "stdout",
     "output_type": "stream",
     "text": [
      "14.4\n",
      "72.0\n"
     ]
    }
   ],
   "source": [
    "result += 1\n",
    "print(result)\n",
    "result *= num1 #same as saying result = result * num1\n",
    "print(result)"
   ]
  },
  {
   "cell_type": "code",
   "execution_count": 7,
   "id": "1bbaa580",
   "metadata": {},
   "outputs": [
    {
     "name": "stdout",
     "output_type": "stream",
     "text": [
      "sam\n",
      "stan\n",
      "10\n"
     ]
    }
   ],
   "source": [
    "name = \"sam\"\n",
    "print(name)\n",
    "name = \"stan\"\n",
    "print(name)\n",
    "name = 10\n",
    "print(name)"
   ]
  },
  {
   "cell_type": "markdown",
   "id": "e3e0fe83",
   "metadata": {},
   "source": [
    "# Working with Strings"
   ]
  },
  {
   "cell_type": "code",
   "execution_count": 32,
   "id": "bcdcfb48",
   "metadata": {},
   "outputs": [
    {
     "name": "stdout",
     "output_type": "stream",
     "text": [
      "Mary Nash\n",
      "Mary Nash\n",
      "Hello Mary\n",
      "Hello Mary, you are 38 years old.\n",
      "Hello, Mary, you are 38 years-old\n",
      "Hello, Tweety Bird\n",
      "Hello, Tweety Bird, you are 13 years-old\n",
      "H\n",
      "e\n",
      "o\n",
      "He\n",
      "'ello\n",
      "Hlo\n",
      "Hl\n",
      "Hoo\n"
     ]
    }
   ],
   "source": [
    "name = \"Mary\" + \" \" + \"Nash\"\n",
    "print(name)\n",
    "first_name = \"Mary\"\n",
    "last_name = \"Nash\"\n",
    "full_name = first_name + \" \" + last_name\n",
    "print(full_name)\n",
    "name = \"Mary\"\n",
    "print(\"Hello {}\".format(name))\n",
    "print(\"Hello {}, you are {} years old.\".format(name, 38))\n",
    "\n",
    "# new way to inject variables into a string\n",
    "print(f\"Hello, {name}, you are 38 years-old\")\n",
    "\n",
    "# difference between versions 2 and 3\n",
    "name = \"Tweety Bird\"\n",
    "print(\"Hello, %s\" %(name))\n",
    "tweet_age = 13\n",
    "print(\"Hello, %s, you are %d years-old\" %(name, tweet_age))\n",
    "word = \"Hello\"\n",
    "print(word[0])\n",
    "print(word[1])\n",
    "\n",
    "#index of negative number will result in accessing info from the back -- so -1 is o -- i guess no zero from back??\n",
    "print(word[-1])\n",
    "\n",
    "#string slicing -- when you only want a piece of the variable, e.g \"He\" from \"Hello\"\n",
    "print(word[0:2])\n",
    "print(\"'\"+word[1:5])\n",
    "\n",
    "#syntax for slicing is always [start: stop: step]\n",
    "print(word[0:5:2])\n",
    "print(word[0:5:3])\n",
    "phrase = \"Hello, World\"\n",
    "print(phrase[0:13:4]) #Hoo\n",
    "\n",
    "\n"
   ]
  },
  {
   "cell_type": "code",
   "execution_count": 5,
   "id": "e1167d9e",
   "metadata": {},
   "outputs": [
    {
     "name": "stdout",
     "output_type": "stream",
     "text": [
      "23 4.5 False Mary\n",
      "Mary's favorite sport is basketball\n",
      "Mary is working on Python programming\n"
     ]
    }
   ],
   "source": [
    "integer1 = 23\n",
    "boolean1 = False\n",
    "float1 = 4.5\n",
    "string1 = \"Mary\"\n",
    "print(integer1, float1, boolean1, string1)\n",
    "#format method\n",
    "name = \"Mary\"\n",
    "program = \"Python\"\n",
    "sport = \"basketball\"\n",
    "print(f\"{name}'s favorite sport is {sport}\")\n",
    "print(f\"{name} is working on {program} programming\")"
   ]
  },
  {
   "cell_type": "code",
   "execution_count": null,
   "id": "ec3311f6",
   "metadata": {},
   "outputs": [],
   "source": []
  }
 ],
 "metadata": {
  "kernelspec": {
   "display_name": "Python 3",
   "language": "python",
   "name": "python3"
  },
  "language_info": {
   "codemirror_mode": {
    "name": "ipython",
    "version": 3
   },
   "file_extension": ".py",
   "mimetype": "text/x-python",
   "name": "python",
   "nbconvert_exporter": "python",
   "pygments_lexer": "ipython3",
   "version": "3.8.8"
  }
 },
 "nbformat": 4,
 "nbformat_minor": 5
}
