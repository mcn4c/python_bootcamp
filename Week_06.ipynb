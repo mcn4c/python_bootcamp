{
 "cells": [
  {
   "cell_type": "markdown",
   "id": "04cfe84c",
   "metadata": {},
   "source": [
    "# Data Collections and Files"
   ]
  },
  {
   "cell_type": "markdown",
   "id": "aa937fc9",
   "metadata": {},
   "source": [
    "## Palindrome Challenge"
   ]
  },
  {
   "cell_type": "code",
   "execution_count": 5,
   "id": "0295f4a2",
   "metadata": {},
   "outputs": [
    {
     "name": "stdout",
     "output_type": "stream",
     "text": [
      "Enter a word to check if it's a palindrome: dog\n",
      "Sorry dog is not a palindrome\n"
     ]
    }
   ],
   "source": [
    "# function to check if input is palindrome\n",
    "\n",
    "\n",
    "\n",
    "\n",
    "def isPalindrome():\n",
    "    word = input(\"Enter a word to check if it's a palindrome: \")\n",
    "    wordReversed = word[::-1]\n",
    "    if word == wordReversed:\n",
    "        print(f\"Yes, {word} is a palindrome\")\n",
    "    else:\n",
    "        print(f\"Sorry, {word} is not a palindrome\")\n",
    "        \n",
    "isPalindrome()\n",
    "    "
   ]
  },
  {
   "cell_type": "markdown",
   "id": "30df1858",
   "metadata": {},
   "source": [
    "# Dictionaries"
   ]
  },
  {
   "cell_type": "code",
   "execution_count": 21,
   "id": "ab645605",
   "metadata": {},
   "outputs": [
    {
     "name": "stdout",
     "output_type": "stream",
     "text": [
      "{'name': 'Morty', 'age': 26}\n",
      "John\n",
      "Mary\n",
      "Age is not available\n",
      "baseball\n",
      "soccer\n",
      "{'name': 'Kirsten'}\n",
      "Kirsten\n",
      "{'2018': 108, '2017': 93}\n",
      "108\n",
      "What is your name?Mary\n",
      "What is your age?38\n",
      "{'name': 'Mary', 'age': 38}\n"
     ]
    }
   ],
   "source": [
    "#declaring a dictionary variable\n",
    "empty = {} # empty dictionary\n",
    "person = {\"name\": \"John\"} # dictionary with one key/value pair\n",
    "customer = {\n",
    "    \"name\": \"Morty\",\n",
    "    \"age\": 26\n",
    "} #dictionary with two key/value pairs\n",
    "print(customer)\n",
    "\n",
    "# can also use dict() to declare an empty dictionary\n",
    "\n",
    "#accessing dictionary information through keys\n",
    "person = {\"name\": \"John\"}\n",
    "print(person[\"name\"])\n",
    "\n",
    "# using the get method to access dictionary information\n",
    "person = {\"name\": \"Mary\"}\n",
    "print(person.get(\"name\"))\n",
    "\n",
    "print(person.get(\"age\", \"Age is not available\")) # since age is not in dictionary, it prints \"age is not available\"\n",
    "\n",
    "#storing a list within a dictionary and accessing it\n",
    "data = {\"sports\": [\"baseball\", \"football\", \"hockey\", \"soccer\"]}\n",
    "print(data[\"sports\"][0]) # first access the key, then the index\n",
    "\n",
    "sports = [\"baseball\", \"football\", \"hockey\", \"soccer\"]\n",
    "sports_dict = dict({\"sports\": sports})\n",
    "print(sports_dict[\"sports\"][3]) # will print soccer\n",
    "\n",
    "#sorting a dictionary within a list and accessing it\n",
    "\n",
    "data = [\"John\", \"Dennis\", {\"name\": \"Kirsten\"}]\n",
    "print(data[2]) # prints dictionary in second index of data\n",
    "print(data[2][\"name\"]) #prints Kristen because it is the value of \"name\" in dictionary\n",
    "\n",
    "#storing a dictionary within a dictionary and accessing it\n",
    "\n",
    "data = {\n",
    "    \"team\": \"Boston Red Sox\",\n",
    "    \"wins\": {\"2018\": 108, \"2017\": 93}\n",
    "}\n",
    "\n",
    "print(data[\"wins\"])\n",
    "print(data[\"wins\"][\"2018\"])\n",
    "\n",
    "\n",
    "# User input name and age\n",
    "\n",
    "name = input(\"What is your name?\")\n",
    "age = int(input(\"What is your age?\"))\n",
    "\n",
    "person = {\n",
    "    \"name\": name,\n",
    "    \"age\" : age\n",
    "}\n",
    "\n",
    "print(person)\n",
    "\n",
    "pizza = {\n",
    "    \"ingredients\": [\"cheese\", \"sausage\", \"peppers\"]\n",
    "}\n",
    "\n",
    "for ingredient in ingredients:\n",
    "\n"
   ]
  },
  {
   "cell_type": "code",
   "execution_count": null,
   "id": "805b7946",
   "metadata": {},
   "outputs": [],
   "source": []
  }
 ],
 "metadata": {
  "kernelspec": {
   "display_name": "Python 3",
   "language": "python",
   "name": "python3"
  },
  "language_info": {
   "codemirror_mode": {
    "name": "ipython",
    "version": 3
   },
   "file_extension": ".py",
   "mimetype": "text/x-python",
   "name": "python",
   "nbconvert_exporter": "python",
   "pygments_lexer": "ipython3",
   "version": "3.8.8"
  }
 },
 "nbformat": 4,
 "nbformat_minor": 5
}
