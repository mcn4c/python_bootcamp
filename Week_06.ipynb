{
 "cells": [
  {
   "cell_type": "markdown",
   "id": "792e84b6",
   "metadata": {},
   "source": [
    "# Data Collections and Files"
   ]
  },
  {
   "cell_type": "markdown",
   "id": "e457cfd2",
   "metadata": {},
   "source": [
    "## Palindrome Challenge"
   ]
  },
  {
   "cell_type": "code",
   "execution_count": 1,
   "id": "a9f8216e",
   "metadata": {},
   "outputs": [
    {
     "name": "stdout",
     "output_type": "stream",
     "text": [
      "Enter a word to check if it's a palindrome: car\n",
      "car\n",
      "rac\n"
     ]
    }
   ],
   "source": [
    "# function to check if input is palindrome\n",
    "\n",
    "word = input(\"Enter a word to check if it's a palindrome: \")\n",
    "\n",
    "wordReversed = word[::-1]\n",
    "\n",
    "\n",
    "def isPalindrome():\n",
    "    word = input(\"Enter a word to check if it's a palindrome: \")\n",
    "    wordReversed = word[::-1]\n",
    "    if word === wordReversed:\n",
    "        print(f\"Yes, {word} is a palindrome\")\n",
    "    else:\n",
    "        print(f\"Sorry {word} is not a palindrome\")\n",
    "        \n",
    "isPalindrome();\n",
    "    "
   ]
  },
  {
   "cell_type": "code",
   "execution_count": null,
   "id": "01b7e034",
   "metadata": {},
   "outputs": [],
   "source": []
  }
 ],
 "metadata": {
  "kernelspec": {
   "display_name": "Python 3",
   "language": "python",
   "name": "python3"
  },
  "language_info": {
   "codemirror_mode": {
    "name": "ipython",
    "version": 3
   },
   "file_extension": ".py",
   "mimetype": "text/x-python",
   "name": "python",
   "nbconvert_exporter": "python",
   "pygments_lexer": "ipython3",
   "version": "3.8.8"
  }
 },
 "nbformat": 4,
 "nbformat_minor": 5
}
