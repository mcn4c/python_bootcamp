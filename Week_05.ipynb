{
 "cells": [
  {
   "cell_type": "markdown",
   "id": "6272df78",
   "metadata": {},
   "source": [
    "# Creating and Calling Functions"
   ]
  },
  {
   "cell_type": "code",
   "execution_count": 4,
   "id": "40ec8756",
   "metadata": {},
   "outputs": [
    {
     "name": "stdout",
     "output_type": "stream",
     "text": [
      "Name: John Smith\n",
      "Age: 45\n",
      "Name: John Smith\n",
      "Age: 45\n",
      "15\n",
      "15\n"
     ]
    }
   ],
   "source": [
    "#writing first function\n",
    "def printInfo(): #defines what the function does when called\n",
    "    print(\"Name: John Smith\")\n",
    "    print(\"Age: 45\")\n",
    "printInfo() #calls the function to run\n",
    "printInfo() # calls the function to run again\n",
    "\n",
    "#Performing a calculation inside a function\n",
    "def calc():\n",
    "    x, y = 5, 10\n",
    "    print(x + y)\n",
    "calc() # will run the block of code within calc and output 15\n",
    "calc()\n",
    "\n",
    "#print my name\n",
    "def myName():\n",
    "    print(\"Mary Nash\")\n",
    "myName()\n",
    "myName()\n",
    "\n",
    "#pizza toppings\n",
    "def pizzaToppings():\n",
    "    print([\"pepperoni\", \"jalapeno\", \"\"]\n",
    "\n",
    "\n"
   ]
  },
  {
   "cell_type": "code",
   "execution_count": null,
   "id": "921847ab",
   "metadata": {},
   "outputs": [],
   "source": []
  }
 ],
 "metadata": {
  "kernelspec": {
   "display_name": "Python 3",
   "language": "python",
   "name": "python3"
  },
  "language_info": {
   "codemirror_mode": {
    "name": "ipython",
    "version": 3
   },
   "file_extension": ".py",
   "mimetype": "text/x-python",
   "name": "python",
   "nbconvert_exporter": "python",
   "pygments_lexer": "ipython3",
   "version": "3.8.8"
  }
 },
 "nbformat": 4,
 "nbformat_minor": 5
}
