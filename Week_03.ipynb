{
 "cells": [
  {
   "cell_type": "code",
   "execution_count": 2,
   "id": "20aa9910",
   "metadata": {},
   "outputs": [
    {
     "name": "stdout",
     "output_type": "stream",
     "text": [
      "Football is my favorite sport\n"
     ]
    }
   ],
   "source": [
    "element = \"Football\"\n",
    "print(\"{} is my favorite sport\".format(element))\n"
   ]
  },
  {
   "cell_type": "markdown",
   "id": "28f30735",
   "metadata": {},
   "source": [
    "# User Input and Type"
   ]
  },
  {
   "cell_type": "code",
   "execution_count": null,
   "id": "8c38f91a",
   "metadata": {},
   "outputs": [],
   "source": [
    "#accepting and outputting user input\n",
    "print(input(\"What is your name?\"))\n",
    "#saving what the user inputs\n",
    "ans = input(\"What is your name?\")\n",
    "print(f\"Hello {ans}\")\n",
    "\n",
    "#how to check the data type of a variable\n",
    "num = 5\n",
    "print(type(num))\n"
   ]
  },
  {
   "cell_type": "code",
   "execution_count": 2,
   "id": "91408c9e",
   "metadata": {},
   "outputs": [
    {
     "name": "stdout",
     "output_type": "stream",
     "text": [
      "What is your name?Mary\n",
      "Mary\n",
      "What is your name?Mary\n",
      "Hello Mary\n",
      "<class 'int'>\n",
      "<class 'int'>\n"
     ]
    }
   ],
   "source": [
    "#accepting and outputting user input\n",
    "print(input(\"What is your name?\"))\n",
    "#saving what the user inputs\n",
    "ans = input(\"What is your name?\")\n",
    "print(f\"Hello {ans}\")\n",
    "\n"
   ]
  },
  {
   "cell_type": "code",
   "execution_count": 7,
   "id": "f2e55340",
   "metadata": {},
   "outputs": [
    {
     "name": "stdout",
     "output_type": "stream",
     "text": [
      "<class 'int'>\n",
      "<class 'int'>\n"
     ]
    }
   ],
   "source": [
    "#how to check the data type of a variable\n",
    "num = 5\n",
    "print( type(num) )\n",
    "#converting a variable from one data type to another\n",
    "num = \"9\"\n",
    "num = int(num) #re-declaring num to store an integer\n",
    "print(type(num)) #checking type to make sure conversion worked\n"
   ]
  },
  {
   "cell_type": "code",
   "execution_count": 10,
   "id": "283ad2cb",
   "metadata": {},
   "outputs": [
    {
     "name": "stdout",
     "output_type": "stream",
     "text": [
      "Type a number to add: 100\n",
      "<class 'str'>\n",
      "100 + 100 is 200\n",
      "Type a number to add: nine\n",
      "You did not put in a valid number\n",
      "The program did not break!\n"
     ]
    }
   ],
   "source": [
    "ans = input(\"Type a number to add: \")\n",
    "print(type(ans)) #default type is string, must convert to integer\n",
    "result = 100 + int(ans)\n",
    "print(f\"100 + {ans} is {result}\")\n",
    "#using try and except blocks, use tab to indent where necessary\n",
    "try:\n",
    "    ans = float(input(\"Type a number to add: \"))\n",
    "    print(f\"100 + {ans} = {100 + ans}\")\n",
    "except:\n",
    "    print(\"You did not put in a valid number\")\n",
    "# without try and except print statment would not get hit if error occurs\n",
    "print(\"The program did not break!\")\n",
    "\n",
    "#converting practice\n",
    "str = \"True\"\n",
    "print(bool(str))"
   ]
  },
  {
   "cell_type": "code",
   "execution_count": 18,
   "id": "d4158e8f",
   "metadata": {},
   "outputs": [
    {
     "name": "stdout",
     "output_type": "stream",
     "text": [
      "True\n",
      "<class 'bool'>\n",
      "Give me a number between 1 and 100: 45\n",
      "Give me a second number between 1 and 50: 45\n",
      "The sum of your numbers is 90\n"
     ]
    }
   ],
   "source": [
    "#converting practice\n",
    "str = \"True\"\n",
    "str = bool(str)\n",
    "print(str)\n",
    "print(type(str))\n",
    "#sum of inputs\n",
    "\n",
    "num1 = int(input(\"Give me a number between 1 and 100: \"))\n",
    "num2 = int(input(\"Give me a second number between 1 and 50: \"))\n",
    "print(f\"The sum of your numbers is {num1 + num2}\")"
   ]
  },
  {
   "cell_type": "code",
   "execution_count": 22,
   "id": "7c41a526",
   "metadata": {},
   "outputs": [
    {
     "name": "stdout",
     "output_type": "stream",
     "text": [
      "What is the year of your car? 2006\n",
      "Who makes your car? Toyota\n",
      "What is the model of your car?Corolla\n",
      "What color is your car?Silver\n",
      "2006 Silver Toyota Corolla\n"
     ]
    }
   ],
   "source": [
    "#car information\n",
    "year = input(\"What is the year of your car? \")\n",
    "make = input(\"Who makes your car? \")\n",
    "model = input(\"What is the model of your car?\")\n",
    "color = input(\"What color is your car?\")\n",
    "print(f\"{year} {color} {make} {model}\")\n"
   ]
  },
  {
   "cell_type": "markdown",
   "id": "12e7209b",
   "metadata": {},
   "source": [
    "# If Statements\n"
   ]
  },
  {
   "cell_type": "code",
   "execution_count": 35,
   "id": "c30bc6f2",
   "metadata": {},
   "outputs": [
    {
     "name": "stdout",
     "output_type": "stream",
     "text": [
      "y is less than x\n",
      "What is 5 + 5?ten\n",
      "You did not put in a valid answer\n",
      "program did not break\n"
     ]
    }
   ],
   "source": [
    "#using an if statement to only run code if the condition is met\n",
    "x, y = 11, 10\n",
    "if x<y:\n",
    "    print(\"x is less than y\")\n",
    "else:\n",
    "    print(\"y is less than x\")\n",
    "\n",
    "# #checking user input\n",
    "ans = input(\"What is 5 + 5?\")\n",
    "try:\n",
    "    ans = int(ans)\n",
    "    if ans == 10:\n",
    "        print(\"That's correct!\")\n",
    "    else:\n",
    "        print(\"You are incorrect.\")\n",
    "except:\n",
    "    print(\"You did not put in a valid answer\")\n",
    "\n",
    "print(\"program did not break\")\n",
    "    "
   ]
  },
  {
   "cell_type": "code",
   "execution_count": 42,
   "id": "75c645b1",
   "metadata": {},
   "outputs": [
    {
     "name": "stdout",
     "output_type": "stream",
     "text": [
      "Both statements were true\n",
      "One or both statements were true\n",
      "Flag is False\n",
      "Baseball contains the character b\n",
      "Baseball does not contain character x\n"
     ]
    }
   ],
   "source": [
    "#using the keyword \"and\" in an if statement\n",
    "x, y, z = 5, 10, 5\n",
    "if x<y and x == z:\n",
    "    print(\"Both statements were true\")\n",
    "#using the keyword or in an if statement\n",
    "x, y, z = 5, 10, 5\n",
    "if x<y or x != z:\n",
    "    print(\"One or both statements were true\")\n",
    "\n",
    "#using keyword not in an if statment\n",
    "flag = False\n",
    "if not flag: #same as saying if not true same as if flag == False\n",
    "    print(\"Flag is False\")\n",
    "#membership operator in\n",
    "#using keyword in within an if statement\n",
    "word = \"Baseball\"\n",
    "if \"b\" in word: #this statement is case sensitive so \"B\" is not registering just lowercase b\n",
    "    print(f\"{word} contains the character b\")\n",
    "    \n",
    "#membership operator not in\n",
    "word = \"Baseball\"\n",
    "if \"x\" not in word:\n",
    "    print(f\"{word} does not contain character x\")"
   ]
  },
  {
   "cell_type": "code",
   "execution_count": 62,
   "id": "d1f5f2f7",
   "metadata": {},
   "outputs": [
    {
     "name": "stdout",
     "output_type": "stream",
     "text": [
      "Write in your favorite animal: dogs\n",
      "What is your favorite activity? running\n",
      "Your activity ends in -ing\n",
      "Enter your first word here: cunt\n",
      "Enter your first word here: cunt\n",
      "The two words you entered are the same!\n",
      "Give me a number, any number: 4\n",
      "4 squared is equal to 81\n"
     ]
    }
   ],
   "source": [
    "#check for es\n",
    "ans1 = input(\"Write in your favorite animal: \")\n",
    "if \"es\" in ans1:\n",
    "    print(\"Your animal contains es characters\")\n",
    "#check for ing\n",
    "ans2 = input(\"What is your favorite activity? \")\n",
    "\n",
    "last=ans2[-1]\n",
    "second_last =ans2[-2]\n",
    "third_last =ans2[-3]\n",
    "\n",
    "if last == \"g\" and second_last == \"n\" and third_last == \"i\":\n",
    "    print(\"Your activity ends in -ing\")\n",
    "else:\n",
    "    print(f\"{ans2[-1]} {ans2[-2]} {ans2[-3]}\")\n",
    "    \n",
    "word1 = input(\"Enter your first word here: \")\n",
    "word2 = input(\"Enter your first word here: \")\n",
    "word1 = word1.lower()\n",
    "word2 = word2.lower()\n",
    "\n",
    "if word1 == word2:\n",
    "    print(\"The two words you entered are the same!\")\n",
    "else: \n",
    "    print(\"The words you entered are not the same\")\n",
    "    \n",
    "num1= input(\"Give me a number, any number: \")\n",
    "num2 = num ** 2\n",
    "\n",
    "print(f\"{num1} squared is equal to {num2}\")\n",
    "\n"
   ]
  },
  {
   "cell_type": "code",
   "execution_count": null,
   "id": "413b4067",
   "metadata": {},
   "outputs": [],
   "source": []
  },
  {
   "cell_type": "code",
   "execution_count": null,
   "id": "c5e5cd00",
   "metadata": {},
   "outputs": [],
   "source": []
  },
  {
   "cell_type": "code",
   "execution_count": null,
   "id": "d8572c4f",
   "metadata": {},
   "outputs": [],
   "source": []
  },
  {
   "cell_type": "code",
   "execution_count": null,
   "id": "80f3c687",
   "metadata": {},
   "outputs": [],
   "source": []
  },
  {
   "cell_type": "code",
   "execution_count": null,
   "id": "4fb9afe6",
   "metadata": {},
   "outputs": [],
   "source": []
  }
 ],
 "metadata": {
  "kernelspec": {
   "display_name": "Python 3",
   "language": "python",
   "name": "python3"
  },
  "language_info": {
   "codemirror_mode": {
    "name": "ipython",
    "version": 3
   },
   "file_extension": ".py",
   "mimetype": "text/x-python",
   "name": "python",
   "nbconvert_exporter": "python",
   "pygments_lexer": "ipython3",
   "version": "3.8.8"
  }
 },
 "nbformat": 4,
 "nbformat_minor": 5
}
