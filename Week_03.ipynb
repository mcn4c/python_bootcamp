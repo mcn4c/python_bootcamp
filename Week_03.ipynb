{
 "cells": [
  {
   "cell_type": "code",
   "execution_count": 2,
   "id": "20aa9910",
   "metadata": {},
   "outputs": [
    {
     "name": "stdout",
     "output_type": "stream",
     "text": [
      "Football is my favorite sport\n"
     ]
    }
   ],
   "source": [
    "element = \"Football\"\n",
    "print(\"{} is my favorite sport\".format(element))\n"
   ]
  },
  {
   "cell_type": "markdown",
   "id": "28f30735",
   "metadata": {},
   "source": [
    "# User Input and Type"
   ]
  },
  {
   "cell_type": "code",
   "execution_count": null,
   "id": "8c38f91a",
   "metadata": {},
   "outputs": [],
   "source": [
    "#accepting and outputting user input\n",
    "print(input(\"What is your name?\"))\n",
    "#saving what the user inputs\n",
    "ans = input(\"What is your name?\")\n",
    "print(f\"Hello {ans}\")\n",
    "\n",
    "#how to check the data type of a variable\n",
    "num = 5\n",
    "print(type(num))\n"
   ]
  },
  {
   "cell_type": "code",
   "execution_count": 2,
   "id": "91408c9e",
   "metadata": {},
   "outputs": [
    {
     "name": "stdout",
     "output_type": "stream",
     "text": [
      "What is your name?Mary\n",
      "Mary\n",
      "What is your name?Mary\n",
      "Hello Mary\n",
      "<class 'int'>\n",
      "<class 'int'>\n"
     ]
    }
   ],
   "source": [
    "#accepting and outputting user input\n",
    "print(input(\"What is your name?\"))\n",
    "#saving what the user inputs\n",
    "ans = input(\"What is your name?\")\n",
    "print(f\"Hello {ans}\")\n",
    "\n"
   ]
  },
  {
   "cell_type": "code",
   "execution_count": 7,
   "id": "f2e55340",
   "metadata": {},
   "outputs": [
    {
     "name": "stdout",
     "output_type": "stream",
     "text": [
      "<class 'int'>\n",
      "<class 'int'>\n"
     ]
    }
   ],
   "source": [
    "#how to check the data type of a variable\n",
    "num = 5\n",
    "print( type(num) )\n",
    "#converting a variable from one data type to another\n",
    "num = \"9\"\n",
    "num = int(num) #re-declaring num to store an integer\n",
    "print(type(num)) #checking type to make sure conversion worked\n"
   ]
  },
  {
   "cell_type": "code",
   "execution_count": 10,
   "id": "283ad2cb",
   "metadata": {},
   "outputs": [
    {
     "name": "stdout",
     "output_type": "stream",
     "text": [
      "Type a number to add: 100\n",
      "<class 'str'>\n",
      "100 + 100 is 200\n",
      "Type a number to add: nine\n",
      "You did not put in a valid number\n",
      "The program did not break!\n"
     ]
    }
   ],
   "source": [
    "ans = input(\"Type a number to add: \")\n",
    "print(type(ans)) #default type is string, must convert to integer\n",
    "result = 100 + int(ans)\n",
    "print(f\"100 + {ans} is {result}\")\n",
    "#using try and except blocks, use tab to indent where necessary\n",
    "try:\n",
    "    ans = float(input(\"Type a number to add: \"))\n",
    "    print(f\"100 + {ans} = {100 + ans}\")\n",
    "except:\n",
    "    print(\"You did not put in a valid number\")\n",
    "# without try and except print statment would not get hit if error occurs\n",
    "print(\"The program did not break!\")\n",
    "\n",
    "#converting practice\n",
    "str = \"True\"\n",
    "print(bool(str))"
   ]
  },
  {
   "cell_type": "code",
   "execution_count": 18,
   "id": "d4158e8f",
   "metadata": {},
   "outputs": [
    {
     "name": "stdout",
     "output_type": "stream",
     "text": [
      "True\n",
      "<class 'bool'>\n",
      "Give me a number between 1 and 100: 45\n",
      "Give me a second number between 1 and 50: 45\n",
      "The sum of your numbers is 90\n"
     ]
    }
   ],
   "source": [
    "#converting practice\n",
    "str = \"True\"\n",
    "str = bool(str)\n",
    "print(str)\n",
    "print(type(str))\n",
    "#sum of inputs\n",
    "\n",
    "num1 = int(input(\"Give me a number between 1 and 100: \"))\n",
    "num2 = int(input(\"Give me a second number between 1 and 50: \"))\n",
    "print(f\"The sum of your numbers is {num1 + num2}\")"
   ]
  },
  {
   "cell_type": "code",
   "execution_count": 20,
   "id": "7c41a526",
   "metadata": {},
   "outputs": [
    {
     "name": "stdout",
     "output_type": "stream",
     "text": [
      "What is the year of your car? 2006\n",
      "Who makes your car? Toyota\n",
      "What is the model of your car?Carolla\n",
      "What color is your car?silver\n",
      "2006ToyotaCarollasilver\n"
     ]
    }
   ],
   "source": [
    "#car information\n",
    "year = input(\"What is the year of your car? \")\n",
    "make = input(\"Who makes your car? \")\n",
    "model = input(\"What is the model of your car?\")\n",
    "color = input(\"What color is your car?\")\n",
    "print(f\"{year + color + make + model }\")\n"
   ]
  },
  {
   "cell_type": "code",
   "execution_count": null,
   "id": "75af2a3a",
   "metadata": {},
   "outputs": [],
   "source": []
  },
  {
   "cell_type": "code",
   "execution_count": null,
   "id": "c30bc6f2",
   "metadata": {},
   "outputs": [],
   "source": []
  },
  {
   "cell_type": "code",
   "execution_count": null,
   "id": "75c645b1",
   "metadata": {},
   "outputs": [],
   "source": []
  },
  {
   "cell_type": "code",
   "execution_count": null,
   "id": "d1f5f2f7",
   "metadata": {},
   "outputs": [],
   "source": []
  }
 ],
 "metadata": {
  "kernelspec": {
   "display_name": "Python 3",
   "language": "python",
   "name": "python3"
  },
  "language_info": {
   "codemirror_mode": {
    "name": "ipython",
    "version": 3
   },
   "file_extension": ".py",
   "mimetype": "text/x-python",
   "name": "python",
   "nbconvert_exporter": "python",
   "pygments_lexer": "ipython3",
   "version": "3.8.8"
  }
 },
 "nbformat": 4,
 "nbformat_minor": 5
}
