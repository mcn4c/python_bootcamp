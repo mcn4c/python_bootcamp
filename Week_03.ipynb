{
 "cells": [
  {
   "cell_type": "code",
   "execution_count": 2,
   "id": "20aa9910",
   "metadata": {},
   "outputs": [
    {
     "name": "stdout",
     "output_type": "stream",
     "text": [
      "Football is my favorite sport\n"
     ]
    }
   ],
   "source": [
    "element = \"Football\"\n",
    "print(\"{} is my favorite sport\".format(element))\n"
   ]
  },
  {
   "cell_type": "markdown",
   "id": "28f30735",
   "metadata": {},
   "source": [
    "# User Input and Type"
   ]
  },
  {
   "cell_type": "code",
   "execution_count": null,
   "id": "8c38f91a",
   "metadata": {},
   "outputs": [],
   "source": [
    "#accepting and outputting user input\n",
    "print(input(\"What is your name?\"))\n",
    "#saving what the user inputs\n",
    "ans = input(\"What is your name?\")\n",
    "print(f\"Hello {ans}\")\n",
    "\n",
    "#how to check the data type of a variable\n",
    "num = 5\n",
    "print(type(num))\n"
   ]
  },
  {
   "cell_type": "code",
   "execution_count": 2,
   "id": "91408c9e",
   "metadata": {},
   "outputs": [
    {
     "name": "stdout",
     "output_type": "stream",
     "text": [
      "What is your name?Mary\n",
      "Mary\n",
      "What is your name?Mary\n",
      "Hello Mary\n",
      "<class 'int'>\n",
      "<class 'int'>\n"
     ]
    }
   ],
   "source": [
    "#accepting and outputting user input\n",
    "print(input(\"What is your name?\"))\n",
    "#saving what the user inputs\n",
    "ans = input(\"What is your name?\")\n",
    "print(f\"Hello {ans}\")\n",
    "\n"
   ]
  },
  {
   "cell_type": "code",
   "execution_count": 7,
   "id": "f2e55340",
   "metadata": {},
   "outputs": [
    {
     "name": "stdout",
     "output_type": "stream",
     "text": [
      "<class 'int'>\n",
      "<class 'int'>\n"
     ]
    }
   ],
   "source": [
    "#how to check the data type of a variable\n",
    "num = 5\n",
    "print( type(num) )\n",
    "#converting a variable from one data type to another\n",
    "num = \"9\"\n",
    "num = int(num) #re-declaring num to store an integer\n",
    "print(type(num)) #checking type to make sure conversion worked\n"
   ]
  },
  {
   "cell_type": "code",
   "execution_count": 10,
   "id": "283ad2cb",
   "metadata": {},
   "outputs": [
    {
     "name": "stdout",
     "output_type": "stream",
     "text": [
      "Type a number to add: 100\n",
      "<class 'str'>\n",
      "100 + 100 is 200\n",
      "Type a number to add: nine\n",
      "You did not put in a valid number\n",
      "The program did not break!\n"
     ]
    }
   ],
   "source": [
    "ans = input(\"Type a number to add: \")\n",
    "print(type(ans)) #default type is string, must convert to integer\n",
    "result = 100 + int(ans)\n",
    "print(f\"100 + {ans} is {result}\")\n",
    "#using try and except blocks, use tab to indent where necessary\n",
    "try:\n",
    "    ans = float(input(\"Type a number to add: \"))\n",
    "    print(f\"100 + {ans} = {100 + ans}\")\n",
    "except:\n",
    "    print(\"You did not put in a valid number\")\n",
    "# without try and except print statment would not get hit if error occurs\n",
    "print(\"The program did not break!\")\n",
    "\n",
    "#converting practice\n",
    "str = \"True\"\n",
    "print(bool(str))"
   ]
  },
  {
   "cell_type": "code",
   "execution_count": 18,
   "id": "d4158e8f",
   "metadata": {},
   "outputs": [
    {
     "name": "stdout",
     "output_type": "stream",
     "text": [
      "True\n",
      "<class 'bool'>\n",
      "Give me a number between 1 and 100: 45\n",
      "Give me a second number between 1 and 50: 45\n",
      "The sum of your numbers is 90\n"
     ]
    }
   ],
   "source": [
    "#converting practice\n",
    "str = \"True\"\n",
    "str = bool(str)\n",
    "print(str)\n",
    "print(type(str))\n",
    "#sum of inputs\n",
    "\n",
    "num1 = int(input(\"Give me a number between 1 and 100: \"))\n",
    "num2 = int(input(\"Give me a second number between 1 and 50: \"))\n",
    "print(f\"The sum of your numbers is {num1 + num2}\")"
   ]
  },
  {
   "cell_type": "code",
   "execution_count": 22,
   "id": "7c41a526",
   "metadata": {},
   "outputs": [
    {
     "name": "stdout",
     "output_type": "stream",
     "text": [
      "What is the year of your car? 2006\n",
      "Who makes your car? Toyota\n",
      "What is the model of your car?Corolla\n",
      "What color is your car?Silver\n",
      "2006 Silver Toyota Corolla\n"
     ]
    }
   ],
   "source": [
    "#car information\n",
    "year = input(\"What is the year of your car? \")\n",
    "make = input(\"Who makes your car? \")\n",
    "model = input(\"What is the model of your car?\")\n",
    "color = input(\"What color is your car?\")\n",
    "print(f\"{year} {color} {make} {model}\")\n"
   ]
  },
  {
   "cell_type": "markdown",
   "id": "12e7209b",
   "metadata": {},
   "source": [
    "# If Statements\n"
   ]
  },
  {
   "cell_type": "code",
   "execution_count": 35,
   "id": "c30bc6f2",
   "metadata": {},
   "outputs": [
    {
     "name": "stdout",
     "output_type": "stream",
     "text": [
      "y is less than x\n",
      "What is 5 + 5?ten\n",
      "You did not put in a valid answer\n",
      "program did not break\n"
     ]
    }
   ],
   "source": [
    "#using an if statement to only run code if the condition is met\n",
    "x, y = 11, 10\n",
    "if x<y:\n",
    "    print(\"x is less than y\")\n",
    "else:\n",
    "    print(\"y is less than x\")\n",
    "\n",
    "# #checking user input\n",
    "ans = input(\"What is 5 + 5?\")\n",
    "try:\n",
    "    ans = int(ans)\n",
    "    if ans == 10:\n",
    "        print(\"That's correct!\")\n",
    "    else:\n",
    "        print(\"You are incorrect.\")\n",
    "except:\n",
    "    print(\"You did not put in a valid answer\")\n",
    "\n",
    "print(\"program did not break\")\n",
    "    "
   ]
  },
  {
   "cell_type": "code",
   "execution_count": 42,
   "id": "75c645b1",
   "metadata": {},
   "outputs": [
    {
     "name": "stdout",
     "output_type": "stream",
     "text": [
      "Both statements were true\n",
      "One or both statements were true\n",
      "Flag is False\n",
      "Baseball contains the character b\n",
      "Baseball does not contain character x\n"
     ]
    }
   ],
   "source": [
    "#using the keyword \"and\" in an if statement\n",
    "x, y, z = 5, 10, 5\n",
    "if x<y and x == z:\n",
    "    print(\"Both statements were true\")\n",
    "#using the keyword or in an if statement\n",
    "x, y, z = 5, 10, 5\n",
    "if x<y or x != z:\n",
    "    print(\"One or both statements were true\")\n",
    "\n",
    "#using keyword not in an if statment\n",
    "flag = False\n",
    "if not flag: #same as saying if not true same as if flag == False\n",
    "    print(\"Flag is False\")\n",
    "#membership operator in\n",
    "#using keyword in within an if statement\n",
    "word = \"Baseball\"\n",
    "if \"b\" in word: #this statement is case sensitive so \"B\" is not registering just lowercase b\n",
    "    print(f\"{word} contains the character b\")\n",
    "    \n",
    "#membership operator not in\n",
    "word = \"Baseball\"\n",
    "if \"x\" not in word:\n",
    "    print(f\"{word} does not contain character x\")"
   ]
  },
  {
   "cell_type": "code",
   "execution_count": 64,
   "id": "d1f5f2f7",
   "metadata": {},
   "outputs": [
    {
     "name": "stdout",
     "output_type": "stream",
     "text": [
      "Write in your favorite animal: dolphins\n",
      "What is your favorite activity? writing\n",
      "Your activity ends in -ing\n",
      "Enter your first word here: bat\n",
      "Enter your first word here: cat\n",
      "The words you entered are not the same\n",
      "Give me a number, any number: 13\n",
      "13 squared is equal to 169\n"
     ]
    }
   ],
   "source": [
    "#check for es\n",
    "ans1 = input(\"Write in your favorite animal: \")\n",
    "if \"es\" in ans1:\n",
    "    print(\"Your animal contains es characters\")\n",
    "#check for ing\n",
    "ans2 = input(\"What is your favorite activity? \")\n",
    "\n",
    "last=ans2[-1]\n",
    "second_last =ans2[-2]\n",
    "third_last =ans2[-3]\n",
    "\n",
    "if last == \"g\" and second_last == \"n\" and third_last == \"i\":\n",
    "    print(\"Your activity ends in -ing\")\n",
    "else:\n",
    "    print(f\"{ans2[-1]} {ans2[-2]} {ans2[-3]}\")\n",
    "    \n",
    "word1 = input(\"Enter your first word here: \")\n",
    "word2 = input(\"Enter your first word here: \")\n",
    "word1 = word1.lower()\n",
    "word2 = word2.lower()\n",
    "\n",
    "if word1 == word2:\n",
    "    print(\"The two words you entered are the same!\")\n",
    "else: \n",
    "    print(\"The words you entered are not the same\")\n",
    "    \n",
    "num1= int(input(\"Give me a number, any number: \"))\n",
    "num2 = num1 ** 2\n",
    "\n",
    "print(f\"{num1} squared is equal to {num2}\")\n",
    "\n"
   ]
  },
  {
   "cell_type": "markdown",
   "id": "d2b4bab0",
   "metadata": {},
   "source": [
    "# Elif Statements"
   ]
  },
  {
   "cell_type": "code",
   "execution_count": 11,
   "id": "02a89f18",
   "metadata": {},
   "outputs": [
    {
     "name": "stdout",
     "output_type": "stream",
     "text": [
      "x is less\n",
      "equal\n",
      "x is equal to z\n",
      "x is less\n",
      "x is equal\n",
      "x is less\n",
      "Give me a number, any number: 400\n",
      "This number is higher than 100\n"
     ]
    }
   ],
   "source": [
    "#checking more than one elif conditional statment\n",
    "x, y = 5, 10\n",
    "if x>y:\n",
    "    print(\"x is greater\")\n",
    "elif (x < y):\n",
    "    print(\"x is less\")\n",
    "    \n",
    "#checking more than one elif conditional statement\n",
    "x, y = 5, 10\n",
    "if x > y:\n",
    "    print(\"x is greater\")\n",
    "elif (x + 10) < y:         #checking if 15 is less than 10\n",
    "    print(\"x is less\")\n",
    "elif (x+5) == y:           #checking if 10 is equal to 10\n",
    "    print(\"equal\")\n",
    "\n",
    "#writing multiple conditionals within each other - multiple block levels hence multiple indentation levels\n",
    "\n",
    "x, y, z = 5, 10, 5\n",
    "if x > y:\n",
    "    print(\"greater\")\n",
    "elif x <=y:\n",
    "    if x == z:\n",
    "        print(\"x is equal to z\")\n",
    "    elif x != z:\n",
    "        print(\"x is not equal to z\")\n",
    "#testing output of two if statements in a row that are both true\n",
    "if x < y:\n",
    "    print(\"x is less\")\n",
    "if x == z:\n",
    "    print(\"x is equal\")\n",
    "\n",
    "#testing output of an if and elif statement that are both true\n",
    "if x<y:\n",
    "    print(\"x is less\")\n",
    "elif x == z:\n",
    "    print(\"x is equal to z\")#won't get hit because first if is true\n",
    "    \n",
    "user1 = int(input(\"Give me a number, any number: \"))\n",
    "if user1>100:\n",
    "    print(\"This number is higher than 100\")\n",
    "elif user1<100:\n",
    "    print(\"This number is lower than 100\")\n",
    "else:\n",
    "    print(\"You picked 100\")"
   ]
  },
  {
   "cell_type": "markdown",
   "id": "1b0c22bb",
   "metadata": {},
   "source": [
    "# Else Statements"
   ]
  },
  {
   "cell_type": "code",
   "execution_count": 16,
   "id": "27f16a1c",
   "metadata": {},
   "outputs": [
    {
     "name": "stdout",
     "output_type": "stream",
     "text": [
      "Hello, Mary\n",
      "Name starts with a M\n",
      "Enter what time it is using military time without a colonhello\n"
     ]
    },
    {
     "ename": "ValueError",
     "evalue": "invalid literal for int() with base 10: 'hello'",
     "output_type": "error",
     "traceback": [
      "\u001b[0;31m---------------------------------------------------------------------------\u001b[0m",
      "\u001b[0;31mValueError\u001b[0m                                Traceback (most recent call last)",
      "\u001b[0;32m<ipython-input-16-bb69cf57dba1>\u001b[0m in \u001b[0;36m<module>\u001b[0;34m\u001b[0m\n\u001b[1;32m     19\u001b[0m \u001b[0;34m\u001b[0m\u001b[0m\n\u001b[1;32m     20\u001b[0m \u001b[0;31m#time greeting statement\u001b[0m\u001b[0;34m\u001b[0m\u001b[0;34m\u001b[0m\u001b[0;34m\u001b[0m\u001b[0m\n\u001b[0;32m---> 21\u001b[0;31m \u001b[0muser_time\u001b[0m \u001b[0;34m=\u001b[0m \u001b[0mint\u001b[0m\u001b[0;34m(\u001b[0m\u001b[0minput\u001b[0m\u001b[0;34m(\u001b[0m\u001b[0;34m\"Enter what time it is using military time without a colon\"\u001b[0m\u001b[0;34m)\u001b[0m\u001b[0;34m)\u001b[0m\u001b[0;34m\u001b[0m\u001b[0;34m\u001b[0m\u001b[0m\n\u001b[0m\u001b[1;32m     22\u001b[0m \u001b[0;34m\u001b[0m\u001b[0m\n\u001b[1;32m     23\u001b[0m \u001b[0;32mif\u001b[0m \u001b[0muser_time\u001b[0m \u001b[0;34m<\u001b[0m \u001b[0;36m1200\u001b[0m\u001b[0;34m:\u001b[0m\u001b[0;34m\u001b[0m\u001b[0;34m\u001b[0m\u001b[0m\n",
      "\u001b[0;31mValueError\u001b[0m: invalid literal for int() with base 10: 'hello'"
     ]
    }
   ],
   "source": [
    "# using an else statement\n",
    "\n",
    "name = \"Mary\"\n",
    "if name == \"Jacob\":\n",
    "    print(\"Hello, Jacob\")\n",
    "else:\n",
    "    print(f\"Hello, {name}\")\n",
    "    \n",
    "#writing full conditional statement with if, elif, and else\n",
    "\n",
    "if name[0] == \"A\":\n",
    "    print(\"Name starts with an A\")\n",
    "elif name[0] == \"B\":\n",
    "    print(\"Name starts with a B\")\n",
    "elif name[0] == \"J\":\n",
    "    print(\"Name starts with a J\")\n",
    "else:\n",
    "    print(f\"Name starts with a {name[0]}\")\n",
    "\n",
    "#time greeting statement\n",
    "user_time = input(\"Enter what time it is using military time without a colon\")\n",
    "\n",
    "\n",
    "if user_time < 1200:\n",
    "    print(\"Good Morning\")\n",
    "elif 1200 <= user_time <  1700:\n",
    "    print(\"Good Afternoon\")\n",
    "elif 2400 >= user_time >= 1700:\n",
    "    print(\"Good Evening\")\n",
    "else:\n",
    "    print(\"Please enter a valid time ... military time, no colon\")\n",
    "    \n",
    "\n"
   ]
  },
  {
   "cell_type": "markdown",
   "id": "d8f075cf",
   "metadata": {},
   "source": [
    "# Friday Project: Creating a Calculator"
   ]
  },
  {
   "cell_type": "code",
   "execution_count": 8,
   "id": "8435ee64",
   "metadata": {},
   "outputs": [
    {
     "name": "stdout",
     "output_type": "stream",
     "text": [
      "Enter the first number you would like to calculate:  23.5\n",
      "Enter the second number of your calculation:  10\n",
      "Write which operation you would like to perform:  times\n",
      "Your answer is 235.0\n"
     ]
    }
   ],
   "source": [
    "try:\n",
    "    num1 = float(input(\"Enter the first number you would like to calculate:  \"))\n",
    "    num2 = float(input(\"Enter the second number of your calculation:  \"))\n",
    "\n",
    "\n",
    "    operation = input(\"Write which operation you would like to perform:  \")\n",
    "    operation = operation.lower()\n",
    "\n",
    "    if operation == \"multiply\" or operation == \"mulitiplication\" or operation == \"times\" or operation == \"x\" or operation == \"*\":\n",
    "        answer = num1 * num2\n",
    "    elif operation == \"divide\" or operation == \"division\" or operation == \"/\":\n",
    "        answer = num1 / num2\n",
    "    elif operation == \"add\" or operation == \"addition\" or operation == \"plus\" or operation == \"+\":\n",
    "        answer = num1 + num2\n",
    "    elif operation == \"minus\" or operation == \"subract\" or operation == \"subtraction\" or operation == \"-\":\n",
    "        answer = num1 - num2\n",
    "    else:\n",
    "        print(\"You have not entered a valid operation\")\n",
    "    \n",
    "    print(f\"Your answer is {answer}\")\n",
    "\n",
    "except:\n",
    "    print(\"You did not enter valid numbers\")"
   ]
  },
  {
   "cell_type": "markdown",
   "id": "30fd50d3",
   "metadata": {},
   "source": [
    "# Python Calculator Help"
   ]
  },
  {
   "cell_type": "code",
   "execution_count": 10,
   "id": "1edf2e91",
   "metadata": {},
   "outputs": [
    {
     "name": "stdout",
     "output_type": "stream",
     "text": [
      "Would you like to add, subtract, multiply or divide? divide\n",
      "You chose divide\n",
      "You chose divide, keep in mind that the order of your numbers matter\n",
      "What's the first number? 10\n",
      "What's the second number? 2\n",
      "First Number: 10 \n",
      "Second Number: 2\n"
     ]
    }
   ],
   "source": [
    "# step 1: ask for user calculation to be performed\n",
    "operation = input(\"Would you like to add, subtract, multiply or divide? \").lower()\n",
    "print(f\"You chose {operation}\") # for testing purposes\n",
    "#step 2 ask for numbers, alert order matters for subtracting and dividing\n",
    "if operation == \"subtract\" or operation == \"divide\":\n",
    "    print(f\"You chose {operation}, keep in mind that the order of your numbers matter\")\n",
    "num1 = input(\"What's the first number? \")\n",
    "num2 = input(\"What's the second number? \")\n",
    "print(f\"First Number: {num1} \")\n",
    "print(f\"Second Number: {num2}\")\n",
    "#step 3 setup try/except for mathematical operation\n",
    "try:\n",
    "    #step 3a immediately try to convert number input to floats\n",
    "    num1, num2 = float(num1), float(num2)\n",
    "    #step 3b perform operation and print result\n",
    "    if operation == \"add\":\n",
    "        result = num1 + num2\n",
    "        print(f\"{num1} + {num2} = {result}\")\n",
    "    elif operation == \"subtract\":\n",
    "        result = num1 - num2\n",
    "        print(f\"{num1} - {num2} = {result}\")\n",
    "    elif operation == \"multiply\":\n",
    "        result = num1 * num2\n",
    "        print(f\"{num1} x {num2} = {result}\")\n",
    "    elif operation == \"divide\":\n",
    "        result = num1/num2\n",
    "        print(f\"{num1} / {num2} = {result}\")\n",
    "    else:\n",
    "        #else will be the hit if they didn't choose an option correctly\n",
    "        print(f\"Sorry, but '{operation}' is not an option\")\n",
    "except:\n",
    "    #step\n",
    "    \n"
   ]
  },
  {
   "cell_type": "code",
   "execution_count": null,
   "id": "6abeb172",
   "metadata": {},
   "outputs": [],
   "source": []
  }
 ],
 "metadata": {
  "kernelspec": {
   "display_name": "Python 3",
   "language": "python",
   "name": "python3"
  },
  "language_info": {
   "codemirror_mode": {
    "name": "ipython",
    "version": 3
   },
   "file_extension": ".py",
   "mimetype": "text/x-python",
   "name": "python",
   "nbconvert_exporter": "python",
   "pygments_lexer": "ipython3",
   "version": "3.8.8"
  }
 },
 "nbformat": 4,
 "nbformat_minor": 5
}
